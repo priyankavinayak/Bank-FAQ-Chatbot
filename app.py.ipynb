{
 "cells": [
  {
   "cell_type": "code",
   "execution_count": 1,
   "id": "a42d861b",
   "metadata": {},
   "outputs": [],
   "source": [
    "#020423 final"
   ]
  },
  {
   "cell_type": "code",
   "execution_count": 2,
   "id": "17947b6f",
   "metadata": {},
   "outputs": [
    {
     "name": "stdout",
     "output_type": "stream",
     "text": [
      " * Serving Flask app '__main__'\n",
      " * Debug mode: on\n"
     ]
    },
    {
     "name": "stderr",
     "output_type": "stream",
     "text": [
      "WARNING: This is a development server. Do not use it in a production deployment. Use a production WSGI server instead.\n",
      " * Running on http://127.0.0.1:5000\n",
      "Press CTRL+C to quit\n",
      "127.0.0.1 - - [20/Apr/2023 03:43:58] \"GET / HTTP/1.1\" 200 -\n",
      "127.0.0.1 - - [20/Apr/2023 03:44:00] \"GET /favicon.ico HTTP/1.1\" 404 -\n",
      "127.0.0.1 - - [20/Apr/2023 03:44:09] \"POST /predict HTTP/1.1\" 200 -\n"
     ]
    }
   ],
   "source": [
    "from flask import Flask, request, jsonify, render_template\n",
    "from sklearn.feature_extraction.text import TfidfVectorizer\n",
    "from sklearn.metrics.pairwise import cosine_similarity\n",
    "from sklearn.svm import SVC\n",
    "import pandas as pd\n",
    "import numpy as np\n",
    "\n",
    "# Load the preprocessed data\n",
    "df = pd.read_csv(r\"C:\\Users\\ELCOT\\Desktop\\final project\\BankFAQs.csv\")\n",
    "df1=pd.read_csv(r\"C:\\Users\\ELCOT\\Desktop\\final project\\TobeMerged.csv\",encoding=('ISO-8859-1'))\n",
    "\n",
    "data1=pd.concat([df1,df])\n",
    "\n",
    "# Define the TD-IDF vectorizer and fit it to the data\n",
    "tdidf = TfidfVectorizer()\n",
    "tdidf.fit(data1['Question'].str.lower())\n",
    "\n",
    "# Define the support vector machine model and fit it to the data\n",
    "svc_model = SVC(kernel='linear')\n",
    "svc_model.fit(tdidf.transform(data1['Question'].str.lower()), data1['Class'])\n",
    "\n",
    "# Define a function to get the answer to a given question\n",
    "def get_answer(question):\n",
    "    # Vectorize the question\n",
    "    question_tdidf = tdidf.transform([question.lower()])\n",
    "    \n",
    "    # Calculate the cosine similarity between both vectors\n",
    "    cosine_sims = cosine_similarity(question_tdidf, tdidf.transform(data1['Question'].str.lower()))\n",
    "\n",
    "    # Get the index of the most similar text to the query\n",
    "    most_similar_idx = np.argmax(cosine_sims)\n",
    "\n",
    "    # Get the predicted class of the query\n",
    "    predicted_class = svc_model.predict(question_tdidf)[0]\n",
    "    \n",
    "    # If the predicted class is not the same as the actual class, return an error message\n",
    "    if predicted_class != data1.iloc[most_similar_idx]['Class']:\n",
    "        return {'error': 'Could not find an appropriate answer.'}\n",
    "    \n",
    "    # Get the answer and construct the response\n",
    "    answer = data1.iloc[most_similar_idx]['Answer']\n",
    "    response = {\n",
    "        'answer': answer,\n",
    "        'predicted_class': predicted_class\n",
    "    }\n",
    "    \n",
    "    return response\n",
    "\n",
    "# Create a Flask app\n",
    "app = Flask(__name__,template_folder='Templates')\n",
    "\n",
    "# Define the route for the chatbot web interface\n",
    "@app.route('/')\n",
    "def index():\n",
    "    return render_template('bank.html')\n",
    "    #return render_template('/templates/bank.html')  \n",
    "\n",
    "# Define the API route for predicting answers\n",
    "@app.route('/predict', methods=['POST'])\n",
    "def predict():\n",
    "    # Get the question from the request\n",
    "    question = request.form['question']\n",
    "\n",
    "    # Get the answer to the question\n",
    "    response = get_answer(question)\n",
    "    \n",
    "    return jsonify(response)\n",
    "\n",
    "if  __name__ == '__main__':\n",
    "    app.run(debug=True,use_reloader=False\n",
    "           )"
   ]
  }
 ],
 "metadata": {
  "kernelspec": {
   "display_name": "Python 3 (ipykernel)",
   "language": "python",
   "name": "python3"
  },
  "language_info": {
   "codemirror_mode": {
    "name": "ipython",
    "version": 3
   },
   "file_extension": ".py",
   "mimetype": "text/x-python",
   "name": "python",
   "nbconvert_exporter": "python",
   "pygments_lexer": "ipython3",
   "version": "3.11.2"
  }
 },
 "nbformat": 4,
 "nbformat_minor": 5
}
